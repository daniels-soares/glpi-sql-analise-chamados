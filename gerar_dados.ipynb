{
 "cells": [
  {
   "cell_type": "code",
   "execution_count": 1,
   "id": "1fd9fb41",
   "metadata": {},
   "outputs": [
    {
     "name": "stdout",
     "output_type": "stream",
     "text": [
      "Arquivo 'chamados_suporte2.csv' criado com sucesso!\n"
     ]
    }
   ],
   "source": [
    "import pandas as pd\n",
    "import random\n",
    "from datetime import datetime, timedelta\n",
    "\n",
    "# Dados simulados\n",
    "tecnicos = [\"João\", \"Maria\", \"Carlos\", \"Daniel\", \"Lucas\"]\n",
    "categorias = [\"Impressora\", \"E-mail\", \"Acesso AD\", \"Office 365\", \"Internet\", \"Instalação de Software\"]\n",
    "prioridades = [\"Alta\", \"Média\", \"Baixa\"]\n",
    "status_list = [\"Solucionado\", \"Pendente\", \"Em atendimento\"]\n",
    "\n",
    "# Gerar 30 chamados\n",
    "data = []\n",
    "start_date = datetime(2025, 5, 1)\n",
    "\n",
    "for i in range(1, 31):\n",
    "    data_abertura = start_date + timedelta(days=random.randint(0, 10))\n",
    "    tecnico = random.choice(tecnicos)\n",
    "    categoria = random.choice(categorias)\n",
    "    prioridade = random.choice(prioridades)\n",
    "    \n",
    "    # Distribuição de status: 70% Solucionado, 20% Pendente, 10% Em atendimento\n",
    "    status = random.choices(status_list, weights=[0.7, 0.2, 0.1])[0]\n",
    "    \n",
    "    # Tempo de resolução apenas se status for \"Solucionado\"\n",
    "    tempo_resolucao = round(random.uniform(1.0, 6.0), 1) if status == \"Solucionado\" else None\n",
    "    \n",
    "    data.append({\n",
    "        \"ID\": i,\n",
    "        \"Data_Abertura\": data_abertura.strftime(\"%Y-%m-%d\"),\n",
    "        \"Tecnico\": tecnico,\n",
    "        \"Categoria\": categoria,\n",
    "        \"Prioridade\": prioridade,\n",
    "        \"Status\": status,\n",
    "        \"Tempo_Resolucao (h)\": tempo_resolucao\n",
    "    })\n",
    "\n",
    "# Criar DataFrame\n",
    "df_chamados = pd.DataFrame(data)\n",
    "\n",
    "# Salvar como CSV\n",
    "df_chamados.to_csv(\"chamados_suporte2.csv\", index=False)\n",
    "\n",
    "print(\"Arquivo 'chamados_suporte2.csv' criado com sucesso!\")\n"
   ]
  }
 ],
 "metadata": {
  "kernelspec": {
   "display_name": "Python 3",
   "language": "python",
   "name": "python3"
  },
  "language_info": {
   "codemirror_mode": {
    "name": "ipython",
    "version": 3
   },
   "file_extension": ".py",
   "mimetype": "text/x-python",
   "name": "python",
   "nbconvert_exporter": "python",
   "pygments_lexer": "ipython3",
   "version": "3.13.3"
  }
 },
 "nbformat": 4,
 "nbformat_minor": 5
}
